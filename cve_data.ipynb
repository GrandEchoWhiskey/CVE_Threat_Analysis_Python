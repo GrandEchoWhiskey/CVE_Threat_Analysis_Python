{
 "cells": [
  {
   "cell_type": "markdown",
   "metadata": {},
   "source": [
    "# 📌 Analiza podatności CVE z NVD API\n",
    "### 🔍 Cel analizy\n",
    "Celem tej analizy jest zbadanie podatności zgromadzonych w bazie NVD (National Vulnerability Database). Analiza obejmuje klasyfikację podatności według ich poziomu zagrożenia, trendów czasowych oraz aplikacji/systemów najbardziej narażonych na ataki.\n",
    "\n",
    "### 🗃️ Rozmiar próbki\n",
    "Dane zostały pobrane z API NVD, zawierają 2000 rekordów dotyczących podatności CVE (Common Vulnerabilities and Exposures).\n",
    "\n",
    "### 📊 Plan analizy\n",
    "Przegląd struktury danych – sprawdzenie pól, typów danych i ich poprawności.\n",
    "Analiza poziomu zagrożenia – klasyfikacja podatności według CVSS (niski, średni, wysoki, krytyczny).\n",
    "Trendy czasowe – wykres liczby podatności na przestrzeni lat.\n",
    "Najbardziej podatne aplikacje/systemy – identyfikacja najbardziej narażonych technologii.\n",
    "Eksport wyników – zapis przetworzonych danych do CSV lub bazy danych SQLite.\n",
    "> ⚠️ Dane te są dynamiczne i mogą się zmieniać w czasie wraz z aktualizacją bazy NVD."
   ]
  },
  {
   "cell_type": "markdown",
   "metadata": {},
   "source": [
    "### 🔄 Etap 1: Pobranie danych z API NVD\n",
    "W tym etapie łączymy się z API NVD i pobieramy dane dotyczące podatności CVE."
   ]
  },
  {
   "cell_type": "code",
   "execution_count": 52,
   "metadata": {},
   "outputs": [
    {
     "name": "stdout",
     "output_type": "stream",
     "text": [
      "✅ Dane zostały pobrane poprawnie!\n"
     ]
    }
   ],
   "source": [
    "import requests\n",
    "\n",
    "url = \"https://services.nvd.nist.gov/rest/json/cves/2.0\"\n",
    "response = requests.get(url)\n",
    "\n",
    "if response.status_code == 200:\n",
    "    data = response.json()\n",
    "    print(\"✅ Dane zostały pobrane poprawnie!\")\n",
    "else:\n",
    "    print(f\"❌ Błąd pobierania danych: {response.status_code}\")\n",
    "    data = None"
   ]
  },
  {
   "cell_type": "markdown",
   "metadata": {},
   "source": [
    "### 📊 Etap 2: Konwersja danych do struktury DataFrame\n",
    "Przetwarzamy dane JSON na strukturę tabelaryczną (DataFrame), aby łatwiej było je analizować."
   ]
  },
  {
   "cell_type": "code",
   "execution_count": 53,
   "metadata": {},
   "outputs": [
    {
     "name": "stdout",
     "output_type": "stream",
     "text": [
      "          CVE ID                                               Opis  \\\n",
      "0  CVE-1999-0095  The debug command in Sendmail is enabled, allo...   \n",
      "1  CVE-1999-0082      CWD ~root command in ftpd allows root access.   \n",
      "2  CVE-1999-1471  Buffer overflow in passwd in BSD based operati...   \n",
      "3  CVE-1999-1122  Vulnerability in restore in SunOS 4.0.3 and ea...   \n",
      "4  CVE-1999-1467  Vulnerability in rcp on SunOS 4.0.x allows rem...   \n",
      "\n",
      "   CVSS Score          Data Publikacji  \n",
      "0        10.0  1988-10-01T04:00:00.000  \n",
      "1        10.0  1988-11-11T05:00:00.000  \n",
      "2         7.2  1989-01-01T05:00:00.000  \n",
      "3         4.6  1989-07-26T04:00:00.000  \n",
      "4        10.0  1989-10-26T04:00:00.000  \n"
     ]
    }
   ],
   "source": [
    "import pandas as pd\n",
    "\n",
    "def extract_cve_data(data):\n",
    "    cve_list = []\n",
    "    for item in data.get(\"vulnerabilities\", []):\n",
    "        cve = item.get(\"cve\", {})\n",
    "        cve_id = cve.get(\"id\", \"null\")\n",
    "        description = next((desc[\"value\"] for desc in cve.get(\"descriptions\", []) if desc[\"lang\"] == \"en\"), \"null\")\n",
    "        cvss_score = cve.get(\"metrics\", {}).get(\"cvssMetricV2\", [{}])[0].get(\"cvssData\", {}).get(\"baseScore\", None)\n",
    "        published_date = cve.get(\"published\", \"null\")\n",
    "        cve_list.append([cve_id, description, cvss_score, published_date])\n",
    "    return pd.DataFrame(cve_list, columns=[\"CVE ID\", \"Opis\", \"CVSS Score\", \"Data Publikacji\"])\n",
    "\n",
    "if data:\n",
    "    df = extract_cve_data(data)\n",
    "    print(df.head())"
   ]
  },
  {
   "cell_type": "markdown",
   "metadata": {},
   "source": [
    "### 📈 Etap 3: Wizualizacja danych\n",
    "Tworzymy histogram przedstawiający rozkład wyników CVSS w pobranej próbce podatności."
   ]
  },
  {
   "cell_type": "code",
   "execution_count": 54,
   "metadata": {},
   "outputs": [
    {
     "data": {
      "image/png": "[encoded data removed]",
      "text/plain": [
       "<Figure size 800x500 with 1 Axes>"
      ]
     },
     "metadata": {},
     "output_type": "display_data"
    }
   ],
   "source": [
    "import matplotlib.pyplot as plt\n",
    "\n",
    "plt.figure(figsize=(8,5))\n",
    "df[\"CVSS Score\"].dropna().astype(float).hist(bins=10, color=\"skyblue\", edgecolor=\"black\")\n",
    "plt.xlabel(\"Wynik CVSS\")\n",
    "plt.ylabel(\"Liczba podatności\")\n",
    "plt.title(\"Rozkład CVSS Score w próbie 2000 podatności\")\n",
    "plt.grid(True)\n",
    "plt.show()"
   ]
  },
  {
   "cell_type": "markdown",
   "metadata": {},
   "source": [
    "### 📝 Etap 4: Zapis danych do pliku CSV\n",
    "Finalnie zapisujemy przetworzone dane do pliku CSV, aby móc je później analizować lub udostępniać."
   ]
  },
  {
   "cell_type": "code",
   "execution_count": 55,
   "metadata": {},
   "outputs": [],
   "source": [
    "df.to_csv(\"cve_data.csv\", index=False)"
   ]
  }
 ],
 "metadata": {
  "kernelspec": {
   "display_name": "Python 3",
   "language": "python",
   "name": "python3"
  },
  "language_info": {
   "codemirror_mode": {
    "name": "ipython",
    "version": 3
   },
   "file_extension": ".py",
   "mimetype": "text/x-python",
   "name": "python",
   "nbconvert_exporter": "python",
   "pygments_lexer": "ipython3",
   "version": "3.11.3"
  }
 },
 "nbformat": 4,
 "nbformat_minor": 2
}
